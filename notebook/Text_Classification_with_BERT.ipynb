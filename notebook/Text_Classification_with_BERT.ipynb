{
  "cells": [
    {
      "cell_type": "markdown",
      "source": [
        "# **Text Classification using Simple Transformers BERT**"
      ],
      "metadata": {
        "id": "s1gfpmcYiPgv"
      }
    },
    {
      "cell_type": "markdown",
      "source": [
        "In this Colab notebook, we will demonstrate how to perform text classification using Simple Transformers with BERT.\n",
        "\n",
        "*   A powerful pre-trained transformer model by Google\n",
        "*   Simple Transformers provides an easy-to-use interface for tasks like text classification, allowing us to leverage BERT's capabilities without needing to write complex code for model implementation."
      ],
      "metadata": {
        "id": "VG6ydUYdiPD9"
      }
    },
    {
      "cell_type": "markdown",
      "source": [
        "### *Import necessary libraries*"
      ],
      "metadata": {
        "id": "pJOEqgfFiOwm"
      }
    },
    {
      "cell_type": "code",
      "execution_count": null,
      "metadata": {
        "ExecuteTime": {
          "end_time": "2020-03-10T10:47:43.528395Z",
          "start_time": "2020-03-10T10:47:43.526128Z"
        },
        "id": "K9dlw_s0h-Iu"
      },
      "outputs": [],
      "source": [
        "import pandas as pd\n",
        "from sklearn.model_selection import train_test_split\n",
        "import re\n",
        "from simpletransformers.classification import ClassificationModel\n",
        "import sklearn\n",
        "import itertools\n",
        "import emoji"
      ]
    },
    {
      "cell_type": "code",
      "execution_count": null,
      "metadata": {
        "ExecuteTime": {
          "end_time": "2020-03-10T10:47:43.554471Z",
          "start_time": "2020-03-10T10:47:43.529670Z"
        },
        "id": "O8ymJpg2h-Iw"
      },
      "outputs": [],
      "source": [
        "df = pd.read_csv(r\"/content/sample_data/data/train.csv\")\n",
        "columns_drop = ['keyword','location']\n",
        "df.drop(columns=columns_drop,inplace=True)\n",
        "df.head()\n"
      ]
    },
    {
      "cell_type": "code",
      "execution_count": null,
      "metadata": {
        "ExecuteTime": {
          "end_time": "2020-03-10T13:28:51.112787Z",
          "start_time": "2020-03-10T13:28:51.105736Z"
        },
        "id": "DZfed8hLh-Iy",
        "outputId": "8df26b39-4517-41b8-e38d-62ea7c0c7630"
      },
      "outputs": [
        {
          "data": {
            "text/plain": [
              "(4342, 3)"
            ]
          },
          "execution_count": 73,
          "metadata": {},
          "output_type": "execute_result"
        }
      ],
      "source": [
        "fake_tweets = df[df.target == 0]\n",
        "print(fake_tweets.shape)\n",
        "fake_tweets.head(300)"
      ]
    },
    {
      "cell_type": "markdown",
      "metadata": {
        "id": "2Dz0iAprh-Iy"
      },
      "source": [
        "### Defining contractions to clean the data"
      ]
    },
    {
      "cell_type": "code",
      "execution_count": null,
      "metadata": {
        "ExecuteTime": {
          "end_time": "2020-03-10T10:47:43.578104Z",
          "start_time": "2020-03-10T10:47:43.571964Z"
        },
        "id": "I9XndBvjh-Iz"
      },
      "outputs": [],
      "source": [
        "contractions = {\n",
        "\"ain't\": \"am not\",\n",
        "\"aren't\": \"are not\",\n",
        "\"can't\": \"cannot\",\n",
        "\"can't've\": \"cannot have\",\n",
        "\"'cause\": \"because\",\n",
        "\"could've\": \"could have\",\n",
        "\"couldn't\": \"could not\",\n",
        "\"couldn't've\": \"could not have\",\n",
        "\"didn't\": \"did not\",\n",
        "\"doesn't\": \"does not\",\n",
        "\"don't\": \"do not\",\n",
        "\"hadn't\": \"had not\",\n",
        "\"hadn't've\": \"had not have\",\n",
        "\"hasn't\": \"has not\",\n",
        "\"haven't\": \"have not\",\n",
        "\"he'd\": \"he would\",\n",
        "\"he'd've\": \"he would have\",\n",
        "\"he'll\": \"he will\",\n",
        "\"he's\": \"he is\",\n",
        "\"how'd\": \"how did\",\n",
        "\"how'll\": \"how will\",\n",
        "\"how's\": \"how is\",\n",
        "\"i'd\": \"i would\",\n",
        "\"i'll\": \"i will\",\n",
        "\"i'm\": \"i am\",\n",
        "\"i've\": \"i have\",\n",
        "\"isn't\": \"is not\",\n",
        "\"it'd\": \"it would\",\n",
        "\"it'll\": \"it will\",\n",
        "\"it's\": \"it is\",\n",
        "\"let's\": \"let us\",\n",
        "\"ma'am\": \"madam\",\n",
        "\"mayn't\": \"may not\",\n",
        "\"might've\": \"might have\",\n",
        "\"mightn't\": \"might not\",\n",
        "\"must've\": \"must have\",\n",
        "\"mustn't\": \"must not\",\n",
        "\"needn't\": \"need not\",\n",
        "\"oughtn't\": \"ought not\",\n",
        "\"shan't\": \"shall not\",\n",
        "\"sha'n't\": \"shall not\",\n",
        "\"she'd\": \"she would\",\n",
        "\"she'll\": \"she will\",\n",
        "\"she's\": \"she is\",\n",
        "\"should've\": \"should have\",\n",
        "\"shouldn't\": \"should not\",\n",
        "\"that'd\": \"that would\",\n",
        "\"that's\": \"that is\",\n",
        "\"there'd\": \"there had\",\n",
        "\"there's\": \"there is\",\n",
        "\"they'd\": \"they would\",\n",
        "\"they'll\": \"they will\",\n",
        "\"they're\": \"they are\",\n",
        "\"they've\": \"they have\",\n",
        "\"wasn't\": \"was not\",\n",
        "\"we'd\": \"we would\",\n",
        "\"we'll\": \"we will\",\n",
        "\"we're\": \"we are\",\n",
        "\"we've\": \"we have\",\n",
        "\"weren't\": \"were not\",\n",
        "\"what'll\": \"what will\",\n",
        "\"what're\": \"what are\",\n",
        "\"what's\": \"what is\",\n",
        "\"what've\": \"what have\",\n",
        "\"where'd\": \"where did\",\n",
        "\"where's\": \"where is\",\n",
        "\"who'll\": \"who will\",\n",
        "\"who's\": \"who is\",\n",
        "\"won't\": \"will not\",\n",
        "\"wouldn't\": \"would not\",\n",
        "\"you'd\": \"you would\",\n",
        "\"you'll\": \"you will\",\n",
        "\"you're\": \"you are\",\n",
        "\"thx\"   : \"thanks\"\n",
        "}"
      ]
    },
    {
      "cell_type": "code",
      "execution_count": null,
      "metadata": {
        "ExecuteTime": {
          "end_time": "2020-03-10T10:47:43.609732Z",
          "start_time": "2020-03-10T10:47:43.586510Z"
        },
        "id": "Gho4ZyQnh-I0",
        "outputId": "f69b4c66-7bf1-4b9b-9417-ea13bd3bb426"
      },
      "outputs": [
        {
          "data": {
            "text/html": [
              "<div>\n",
              "<style scoped>\n",
              "    .dataframe tbody tr th:only-of-type {\n",
              "        vertical-align: middle;\n",
              "    }\n",
              "\n",
              "    .dataframe tbody tr th {\n",
              "        vertical-align: top;\n",
              "    }\n",
              "\n",
              "    .dataframe thead th {\n",
              "        text-align: right;\n",
              "    }\n",
              "</style>\n",
              "<table border=\"1\" class=\"dataframe\">\n",
              "  <thead>\n",
              "    <tr style=\"text-align: right;\">\n",
              "      <th></th>\n",
              "      <th>id</th>\n",
              "      <th>text</th>\n",
              "      <th>target</th>\n",
              "    </tr>\n",
              "  </thead>\n",
              "  <tbody>\n",
              "    <tr>\n",
              "      <th>0</th>\n",
              "      <td>1</td>\n",
              "      <td>Our Deeds are the Reason of this #earthquake M...</td>\n",
              "      <td>1</td>\n",
              "    </tr>\n",
              "    <tr>\n",
              "      <th>1</th>\n",
              "      <td>4</td>\n",
              "      <td>Forest fire near La Ronge Sask. Canada</td>\n",
              "      <td>1</td>\n",
              "    </tr>\n",
              "    <tr>\n",
              "      <th>2</th>\n",
              "      <td>5</td>\n",
              "      <td>All residents asked to 'shelter in place' are ...</td>\n",
              "      <td>1</td>\n",
              "    </tr>\n",
              "    <tr>\n",
              "      <th>3</th>\n",
              "      <td>6</td>\n",
              "      <td>13,000 people receive #wildfires evacuation or...</td>\n",
              "      <td>1</td>\n",
              "    </tr>\n",
              "    <tr>\n",
              "      <th>4</th>\n",
              "      <td>7</td>\n",
              "      <td>Just got sent this photo from Ruby #Alaska as ...</td>\n",
              "      <td>1</td>\n",
              "    </tr>\n",
              "  </tbody>\n",
              "</table>\n",
              "</div>"
            ],
            "text/plain": [
              "   id                                               text  target\n",
              "0   1  Our Deeds are the Reason of this #earthquake M...       1\n",
              "1   4             Forest fire near La Ronge Sask. Canada       1\n",
              "2   5  All residents asked to 'shelter in place' are ...       1\n",
              "3   6  13,000 people receive #wildfires evacuation or...       1\n",
              "4   7  Just got sent this photo from Ruby #Alaska as ...       1"
            ]
          },
          "execution_count": 31,
          "metadata": {},
          "output_type": "execute_result"
        }
      ],
      "source": [
        "def remove_contractions(text):\n",
        "    return contractions[text.lower()] if text.lower() in contractions.keys() else text\n",
        "\n",
        "\n",
        "df['text']=df['text'].apply(remove_contractions)\n",
        "df.head()\n"
      ]
    },
    {
      "cell_type": "markdown",
      "metadata": {
        "id": "MmJzqT05h-I1"
      },
      "source": [
        "### Cleaning the dataset"
      ]
    },
    {
      "cell_type": "code",
      "execution_count": null,
      "metadata": {
        "ExecuteTime": {
          "end_time": "2020-03-10T10:47:43.619202Z",
          "start_time": "2020-03-10T10:47:43.611278Z"
        },
        "id": "KBqQCUIbh-I1"
      },
      "outputs": [],
      "source": [
        "def clean_dataset(text):\n",
        "    # Remove hashtag while keeping hashtag text\n",
        "    text = re.sub(r'#','', text)\n",
        "    # Remove HTML special entities (e.g. &amp;)\n",
        "    text = re.sub(r'\\&\\w*;', '', text)\n",
        "    # Remove tickers\n",
        "    text = re.sub(r'\\$\\w*', '', text)\n",
        "    # Remove hyperlinks\n",
        "    text = re.sub(r'https?:\\/\\/.*\\/\\w*', '', text)\n",
        "    # Remove whitespace (including new line characters)\n",
        "    text = re.sub(r'\\s\\s+','', text)\n",
        "    text = re.sub(r'[ ]{2, }',' ',text)\n",
        "    # Remove URL, RT, mention(@)\n",
        "    text=  re.sub(r'http(\\S)+', '',text)\n",
        "    text=  re.sub(r'http ...', '',text)\n",
        "    text=  re.sub(r'(RT|rt)[ ]*@[ ]*[\\S]+','',text)\n",
        "    text=  re.sub(r'RT[ ]?@','',text)\n",
        "    text = re.sub(r'@[\\S]+','',text)\n",
        "    # Remove words with 4 or fewer letters\n",
        "    text = re.sub(r'\\b\\w{1,4}\\b', '', text)\n",
        "    #&, < and >\n",
        "    text = re.sub(r'&amp;?', 'and',text)\n",
        "    text = re.sub(r'&lt;','<',text)\n",
        "    text = re.sub(r'&gt;','>',text)\n",
        "    # Remove characters beyond Basic Multilingual Plane (BMP) of Unicode:\n",
        "    text= ''.join(c for c in text if c <= '\\uFFFF')\n",
        "    text = text.strip()\n",
        "    # Remove misspelling words\n",
        "    text = ''.join(''.join(s)[:2] for _, s in itertools.groupby(text))\n",
        "    # Remove emoji\n",
        "    text = emoji.demojize(text)\n",
        "    text = text.replace(\":\",\" \")\n",
        "    text = ' '.join(text.split())\n",
        "    text = re.sub(\"([^\\x00-\\x7F])+\",\" \",text)\n",
        "    # Remove Mojibake (also extra spaces)\n",
        "    text = ' '.join(re.sub(\"[^\\u4e00-\\u9fa5\\u0030-\\u0039\\u0041-\\u005a\\u0061-\\u007a]\", \" \", text).split())\n",
        "    return text"
      ]
    },
    {
      "cell_type": "code",
      "execution_count": null,
      "metadata": {
        "ExecuteTime": {
          "end_time": "2020-03-10T10:47:44.725957Z",
          "start_time": "2020-03-10T10:47:43.620437Z"
        },
        "id": "8GPbvt9Qh-I1"
      },
      "outputs": [],
      "source": [
        "df['text'] =df['text'].apply(clean_dataset)\n",
        "print(df.head())\n",
        "print()\n",
        "\n",
        "df.shape"
      ]
    },
    {
      "cell_type": "markdown",
      "metadata": {
        "id": "KXWnwmLTh-I2"
      },
      "source": [
        "### Split the training and validation set"
      ]
    },
    {
      "cell_type": "code",
      "execution_count": null,
      "metadata": {
        "ExecuteTime": {
          "end_time": "2020-03-10T10:47:44.736858Z",
          "start_time": "2020-03-10T10:47:44.730155Z"
        },
        "id": "9DbOYpGMh-I2"
      },
      "outputs": [],
      "source": [
        "X_train_clean, X_test_clean, y_train_clean, y_test_clean = train_test_split(df['text'], df['target'], test_size=0.20, random_state=42)"
      ]
    },
    {
      "cell_type": "code",
      "execution_count": null,
      "metadata": {
        "ExecuteTime": {
          "end_time": "2020-03-10T10:47:44.744448Z",
          "start_time": "2020-03-10T10:47:44.737800Z"
        },
        "id": "JqN3tiHGh-I2",
        "outputId": "e987488a-c7ab-4b83-8961-61fe21efbd78"
      },
      "outputs": [
        {
          "name": "stdout",
          "output_type": "stream",
          "text": [
            "Shape of training data set:  (6090, 2)\n",
            "View of data set:                                                     text  target\n",
            "4996  Courageous honest analysis Atomic Hiroshima70 ...       1\n",
            "3263          shame became engulfed flames boycottBears       0\n",
            "4907  rescind medals honor given soldiers Massacre W...       1\n",
            "2855  Worried about drought might affect Extreme Wea...       1\n",
            "4716                           BlastPower PantherAttack       0\n"
          ]
        }
      ],
      "source": [
        "train_df_clean = pd.concat([X_train_clean, y_train_clean], axis=1)\n",
        "print(\"Shape of training data set: \", train_df_clean.shape)\n",
        "print(\"View of data set: \", train_df_clean.head())"
      ]
    },
    {
      "cell_type": "code",
      "execution_count": null,
      "metadata": {
        "ExecuteTime": {
          "end_time": "2020-03-10T10:47:44.749285Z",
          "start_time": "2020-03-10T10:47:44.745590Z"
        },
        "id": "TBaeUg0Hh-I2",
        "outputId": "967f2dc7-763b-4321-b128-3a1131365da8"
      },
      "outputs": [
        {
          "name": "stdout",
          "output_type": "stream",
          "text": [
            "Shape of Eval data set:  (1523, 2)\n"
          ]
        }
      ],
      "source": [
        "eval_df_clean = pd.concat([X_test_clean, y_test_clean], axis=1)\n",
        "print(\"Shape of Eval data set: \", eval_df_clean.shape)"
      ]
    },
    {
      "cell_type": "markdown",
      "metadata": {
        "id": "H0KdLUVqh-I2"
      },
      "source": [
        "### BERT Model Training"
      ]
    },
    {
      "cell_type": "markdown",
      "metadata": {
        "id": "YKmJ_LBUh-I2"
      },
      "source": [
        "#### Set up the train arguments"
      ]
    },
    {
      "cell_type": "code",
      "execution_count": null,
      "metadata": {
        "ExecuteTime": {
          "end_time": "2020-03-10T10:47:44.754966Z",
          "start_time": "2020-03-10T10:47:44.750323Z"
        },
        "id": "98PVMZOFh-I2"
      },
      "outputs": [],
      "source": [
        "train_args = {\n",
        "    'evaluate_during_training': True,\n",
        "    'logging_steps': 100,\n",
        "    'num_train_epochs': 2,\n",
        "    'evaluate_during_training_steps': 100,\n",
        "    'save_eval_checkpoints': False,\n",
        "    'train_batch_size': 32,\n",
        "    'eval_batch_size': 64,\n",
        "    'overwrite_output_dir': True,\n",
        "    'fp16': False,\n",
        "    'wandb_project': \"visualization-demo\"\n",
        "}"
      ]
    },
    {
      "cell_type": "code",
      "execution_count": null,
      "metadata": {
        "ExecuteTime": {
          "end_time": "2020-03-10T10:47:47.439417Z",
          "start_time": "2020-03-10T10:47:44.755821Z"
        },
        "id": "u1g1Izx6h-I3"
      },
      "outputs": [],
      "source": [
        "model_BERT = ClassificationModel('bert', 'bert-base-cased', num_labels=2, use_cuda=True, cuda_device=0, args=train_args)"
      ]
    },
    {
      "cell_type": "markdown",
      "metadata": {
        "id": "wv6YCUzMh-I3"
      },
      "source": [
        "#### Train the model"
      ]
    },
    {
      "cell_type": "code",
      "execution_count": null,
      "metadata": {
        "ExecuteTime": {
          "end_time": "2020-03-10T10:50:43.143978Z",
          "start_time": "2020-03-10T10:47:47.440443Z"
        },
        "id": "i1m1Xpd5h-I3"
      },
      "outputs": [],
      "source": [
        "model_BERT.train_model(train_df_clean, eval_df=eval_df_clean)"
      ]
    },
    {
      "cell_type": "markdown",
      "metadata": {
        "id": "H-tbzqD_h-I3"
      },
      "source": [
        "#### check model performance on validation data"
      ]
    },
    {
      "cell_type": "code",
      "execution_count": null,
      "metadata": {
        "ExecuteTime": {
          "end_time": "2020-03-10T10:50:49.192436Z",
          "start_time": "2020-03-10T10:50:43.151011Z"
        },
        "colab": {
          "referenced_widgets": [
            "830833f72bbc4844968defd9277d9887",
            "e55e09071f4249e4afd4cc4dbc52b123"
          ]
        },
        "id": "KpRqJKQPh-I3",
        "outputId": "74558cef-9222-4db1-cff6-0382e1d31fbf"
      },
      "outputs": [
        {
          "name": "stdout",
          "output_type": "stream",
          "text": [
            "Converting to features started. Cache is not used.\n"
          ]
        },
        {
          "data": {
            "application/vnd.jupyter.widget-view+json": {
              "model_id": "830833f72bbc4844968defd9277d9887",
              "version_major": 2,
              "version_minor": 0
            },
            "text/plain": [
              "HBox(children=(IntProgress(value=0, max=1523), HTML(value='')))"
            ]
          },
          "metadata": {},
          "output_type": "display_data"
        },
        {
          "data": {
            "application/vnd.jupyter.widget-view+json": {
              "model_id": "e55e09071f4249e4afd4cc4dbc52b123",
              "version_major": 2,
              "version_minor": 0
            },
            "text/plain": [
              "HBox(children=(IntProgress(value=0, max=24), HTML(value='')))"
            ]
          },
          "metadata": {},
          "output_type": "display_data"
        },
        {
          "name": "stdout",
          "output_type": "stream",
          "text": [
            "{'mcc': 0.5915974149823142, 'tp': 466, 'tn': 755, 'fp': 119, 'fn': 183, 'eval_loss': 0.45270544787247974, 'acc': 0.8017071569271176}\n"
          ]
        }
      ],
      "source": [
        "result, model_outputs, wrong_predictions = model_BERT.eval_model(eval_df_clean, acc=sklearn.metrics.accuracy_score)"
      ]
    },
    {
      "cell_type": "markdown",
      "metadata": {
        "id": "b9Fkuha8h-I3"
      },
      "source": [
        "### Roberta Model Training"
      ]
    },
    {
      "cell_type": "markdown",
      "metadata": {
        "ExecuteTime": {
          "end_time": "2020-03-10T13:02:33.382479Z",
          "start_time": "2020-03-10T13:02:33.380712Z"
        },
        "id": "igYIcu66h-I3"
      },
      "source": [
        "#### Setup the model"
      ]
    },
    {
      "cell_type": "code",
      "execution_count": null,
      "metadata": {
        "ExecuteTime": {
          "end_time": "2020-03-10T13:03:14.508803Z",
          "start_time": "2020-03-10T13:02:59.382233Z"
        },
        "id": "4FNT1n-5h-I3"
      },
      "outputs": [],
      "source": [
        "model_Roberta = ClassificationModel('roberta', 'roberta-base', num_labels=2, use_cuda=True, cuda_device=0, args=train_args)"
      ]
    },
    {
      "cell_type": "markdown",
      "metadata": {
        "id": "BvGofx_Lh-I4"
      },
      "source": [
        "#### Train the model"
      ]
    },
    {
      "cell_type": "code",
      "execution_count": null,
      "metadata": {
        "ExecuteTime": {
          "end_time": "2020-03-10T13:06:32.170802Z",
          "start_time": "2020-03-10T13:03:32.010998Z"
        },
        "id": "K6VWaKYNh-I4"
      },
      "outputs": [],
      "source": [
        "model_Roberta.train_model(train_df_clean, eval_df=eval_df_clean)"
      ]
    },
    {
      "cell_type": "markdown",
      "metadata": {
        "id": "hrRLgNoUh-I4"
      },
      "source": [
        "#### Evaluate the model"
      ]
    },
    {
      "cell_type": "code",
      "execution_count": null,
      "metadata": {
        "ExecuteTime": {
          "end_time": "2020-03-10T13:06:55.993060Z",
          "start_time": "2020-03-10T13:06:49.926986Z"
        },
        "colab": {
          "referenced_widgets": [
            "08ee45f577124d54a9c79fd9983825ae",
            "a13eb45db0504da8bb1e8f7527274b00"
          ]
        },
        "id": "4bcD_3zLh-I4",
        "outputId": "3a9298bc-5b80-42f7-9b1d-cd9a43ff100c"
      },
      "outputs": [
        {
          "name": "stdout",
          "output_type": "stream",
          "text": [
            "Converting to features started. Cache is not used.\n"
          ]
        },
        {
          "data": {
            "application/vnd.jupyter.widget-view+json": {
              "model_id": "08ee45f577124d54a9c79fd9983825ae",
              "version_major": 2,
              "version_minor": 0
            },
            "text/plain": [
              "HBox(children=(IntProgress(value=0, max=1523), HTML(value='')))"
            ]
          },
          "metadata": {},
          "output_type": "display_data"
        },
        {
          "data": {
            "application/vnd.jupyter.widget-view+json": {
              "model_id": "a13eb45db0504da8bb1e8f7527274b00",
              "version_major": 2,
              "version_minor": 0
            },
            "text/plain": [
              "HBox(children=(IntProgress(value=0, max=24), HTML(value='')))"
            ]
          },
          "metadata": {},
          "output_type": "display_data"
        },
        {
          "name": "stdout",
          "output_type": "stream",
          "text": [
            "{'mcc': 0.6223595391558661, 'tp': 459, 'tn': 784, 'fp': 90, 'fn': 190, 'eval_loss': 0.45775141566991806, 'acc': 0.8161523309258043}\n"
          ]
        }
      ],
      "source": [
        "result, model_outputs, wrong_predictions = model_Roberta.eval_model(eval_df_clean, acc=sklearn.metrics.accuracy_score)"
      ]
    },
    {
      "cell_type": "markdown",
      "metadata": {
        "id": "903FwSx0h-I4"
      },
      "source": [
        "### ALBERT Model training"
      ]
    },
    {
      "cell_type": "code",
      "execution_count": null,
      "metadata": {
        "ExecuteTime": {
          "end_time": "2020-03-10T13:10:26.361730Z",
          "start_time": "2020-03-10T13:10:21.727984Z"
        },
        "id": "W3Mexu4Ah-I5"
      },
      "outputs": [],
      "source": [
        "model_albert = ClassificationModel('albert', 'albert-base-v2', num_labels=2, use_cuda=True, cuda_device=0, args=train_args)"
      ]
    },
    {
      "cell_type": "code",
      "execution_count": null,
      "metadata": {
        "ExecuteTime": {
          "end_time": "2020-03-10T13:13:33.646215Z",
          "start_time": "2020-03-10T13:10:44.375847Z"
        },
        "id": "nIQ3M76jh-I5"
      },
      "outputs": [],
      "source": [
        "model_albert.train_model(train_df_clean, eval_df=eval_df_clean)"
      ]
    },
    {
      "cell_type": "code",
      "execution_count": null,
      "metadata": {
        "ExecuteTime": {
          "end_time": "2020-03-10T13:13:50.788829Z",
          "start_time": "2020-03-10T13:13:44.158174Z"
        },
        "colab": {
          "referenced_widgets": [
            "67fe5ee2d3ba479b8593db5a2e5c10f6",
            "c58b2100c20d4d58a957b015518fd6a7"
          ]
        },
        "id": "m3XCNyRTh-I5",
        "outputId": "f8d7ef6f-75d6-43e6-afb0-61f4e4706d03"
      },
      "outputs": [
        {
          "name": "stdout",
          "output_type": "stream",
          "text": [
            "Converting to features started. Cache is not used.\n"
          ]
        },
        {
          "data": {
            "application/vnd.jupyter.widget-view+json": {
              "model_id": "67fe5ee2d3ba479b8593db5a2e5c10f6",
              "version_major": 2,
              "version_minor": 0
            },
            "text/plain": [
              "HBox(children=(IntProgress(value=0, max=1523), HTML(value='')))"
            ]
          },
          "metadata": {},
          "output_type": "display_data"
        },
        {
          "data": {
            "application/vnd.jupyter.widget-view+json": {
              "model_id": "c58b2100c20d4d58a957b015518fd6a7",
              "version_major": 2,
              "version_minor": 0
            },
            "text/plain": [
              "HBox(children=(IntProgress(value=0, max=24), HTML(value='')))"
            ]
          },
          "metadata": {},
          "output_type": "display_data"
        },
        {
          "name": "stdout",
          "output_type": "stream",
          "text": [
            "{'mcc': 0.5121674642936882, 'tp': 433, 'tn': 730, 'fp': 144, 'fn': 216, 'eval_loss': 0.5123823285102844, 'acc': 0.7636244254760342}\n"
          ]
        }
      ],
      "source": [
        "result, model_outputs, wrong_predictions = model_albert.eval_model(eval_df_clean, acc=sklearn.metrics.accuracy_score)"
      ]
    },
    {
      "cell_type": "markdown",
      "metadata": {
        "id": "YFn1SHQjh-I6"
      },
      "source": [
        "### Perform prediction - Test Set"
      ]
    },
    {
      "cell_type": "code",
      "execution_count": null,
      "metadata": {
        "ExecuteTime": {
          "end_time": "2020-03-10T13:15:35.878541Z",
          "start_time": "2020-03-10T13:15:35.401785Z"
        },
        "id": "XOdyLqh_h-I6",
        "outputId": "3914afd7-098e-4b6d-f7c5-bf336cfe9763"
      },
      "outputs": [
        {
          "data": {
            "text/html": [
              "<div>\n",
              "<style scoped>\n",
              "    .dataframe tbody tr th:only-of-type {\n",
              "        vertical-align: middle;\n",
              "    }\n",
              "\n",
              "    .dataframe tbody tr th {\n",
              "        vertical-align: top;\n",
              "    }\n",
              "\n",
              "    .dataframe thead th {\n",
              "        text-align: right;\n",
              "    }\n",
              "</style>\n",
              "<table border=\"1\" class=\"dataframe\">\n",
              "  <thead>\n",
              "    <tr style=\"text-align: right;\">\n",
              "      <th></th>\n",
              "      <th>id</th>\n",
              "      <th>text</th>\n",
              "    </tr>\n",
              "  </thead>\n",
              "  <tbody>\n",
              "    <tr>\n",
              "      <th>0</th>\n",
              "      <td>0</td>\n",
              "      <td>happened terrible crash</td>\n",
              "    </tr>\n",
              "    <tr>\n",
              "      <th>1</th>\n",
              "      <td>2</td>\n",
              "      <td>Heard about earthquake different cities everyone</td>\n",
              "    </tr>\n",
              "    <tr>\n",
              "      <th>2</th>\n",
              "      <td>3</td>\n",
              "      <td>there forest geese fleeing across street cannot</td>\n",
              "    </tr>\n",
              "    <tr>\n",
              "      <th>3</th>\n",
              "      <td>9</td>\n",
              "      <td>Apocalypse lighting Spokane wildfires</td>\n",
              "    </tr>\n",
              "    <tr>\n",
              "      <th>4</th>\n",
              "      <td>11</td>\n",
              "      <td>Typhoon Soudelor kills China Taiwan</td>\n",
              "    </tr>\n",
              "  </tbody>\n",
              "</table>\n",
              "</div>"
            ],
            "text/plain": [
              "   id                                              text\n",
              "0   0                           happened terrible crash\n",
              "1   2  Heard about earthquake different cities everyone\n",
              "2   3   there forest geese fleeing across street cannot\n",
              "3   9             Apocalypse lighting Spokane wildfires\n",
              "4  11               Typhoon Soudelor kills China Taiwan"
            ]
          },
          "execution_count": 54,
          "metadata": {},
          "output_type": "execute_result"
        }
      ],
      "source": [
        "test_df = pd.read_csv(r\"/content/sample_data/data/train.csv\")\n",
        "## Drop columns for keyword and location\n",
        "columns_todrop = ['keyword','location']\n",
        "test_df.drop(columns=columns_todrop,inplace=True)\n",
        "### Change contractions\n",
        "test_df['text']=test_df['text'].apply(remove_contractions)\n",
        "## Clean Data set\n",
        "test_df['text'] =test_df['text'].apply(clean_dataset)\n",
        "test_df.head()"
      ]
    },
    {
      "cell_type": "code",
      "execution_count": null,
      "metadata": {
        "ExecuteTime": {
          "end_time": "2020-03-10T13:16:16.452764Z",
          "start_time": "2020-03-10T13:16:04.187320Z"
        },
        "colab": {
          "referenced_widgets": [
            "d12153f84be34ffb81dce0ed82acd5bb",
            "a490c7e7ce9f4ce0945e06c57b19f05c"
          ]
        },
        "id": "kALUBN-4h-I7",
        "outputId": "bf9d194d-cab3-4092-bbaa-4187c9d0d5fd"
      },
      "outputs": [
        {
          "name": "stdout",
          "output_type": "stream",
          "text": [
            "Converting to features started. Cache is not used.\n"
          ]
        },
        {
          "data": {
            "application/vnd.jupyter.widget-view+json": {
              "model_id": "d12153f84be34ffb81dce0ed82acd5bb",
              "version_major": 2,
              "version_minor": 0
            },
            "text/plain": [
              "HBox(children=(IntProgress(value=0, max=3263), HTML(value='')))"
            ]
          },
          "metadata": {},
          "output_type": "display_data"
        },
        {
          "data": {
            "application/vnd.jupyter.widget-view+json": {
              "model_id": "a490c7e7ce9f4ce0945e06c57b19f05c",
              "version_major": 2,
              "version_minor": 0
            },
            "text/plain": [
              "HBox(children=(IntProgress(value=0, max=51), HTML(value='')))"
            ]
          },
          "metadata": {},
          "output_type": "display_data"
        }
      ],
      "source": [
        "predictions, raw_outputs = model_Roberta.predict(test_df['text'])"
      ]
    },
    {
      "cell_type": "code",
      "execution_count": null,
      "metadata": {
        "ExecuteTime": {
          "end_time": "2020-03-10T13:16:59.088677Z",
          "start_time": "2020-03-10T13:16:59.083176Z"
        },
        "id": "KfCuimk0h-I7",
        "outputId": "ff91cb2d-45e2-4d4a-de84-9ce5c493d669"
      },
      "outputs": [
        {
          "data": {
            "text/html": [
              "<div>\n",
              "<style scoped>\n",
              "    .dataframe tbody tr th:only-of-type {\n",
              "        vertical-align: middle;\n",
              "    }\n",
              "\n",
              "    .dataframe tbody tr th {\n",
              "        vertical-align: top;\n",
              "    }\n",
              "\n",
              "    .dataframe thead th {\n",
              "        text-align: right;\n",
              "    }\n",
              "</style>\n",
              "<table border=\"1\" class=\"dataframe\">\n",
              "  <thead>\n",
              "    <tr style=\"text-align: right;\">\n",
              "      <th></th>\n",
              "      <th>id</th>\n",
              "      <th>text</th>\n",
              "      <th>target</th>\n",
              "    </tr>\n",
              "  </thead>\n",
              "  <tbody>\n",
              "    <tr>\n",
              "      <th>3258</th>\n",
              "      <td>10861</td>\n",
              "      <td>EARTHQUAKE SAFETY ANGELES SAFETY FASTENERS</td>\n",
              "      <td>0</td>\n",
              "    </tr>\n",
              "    <tr>\n",
              "      <th>3259</th>\n",
              "      <td>10865</td>\n",
              "      <td>Storm worse hurricane city3others hardest look...</td>\n",
              "      <td>1</td>\n",
              "    </tr>\n",
              "    <tr>\n",
              "      <th>3260</th>\n",
              "      <td>10868</td>\n",
              "      <td>Green derailment Chicago</td>\n",
              "      <td>1</td>\n",
              "    </tr>\n",
              "    <tr>\n",
              "      <th>3261</th>\n",
              "      <td>10874</td>\n",
              "      <td>issues Hazardous Weather Outlook</td>\n",
              "      <td>1</td>\n",
              "    </tr>\n",
              "    <tr>\n",
              "      <th>3262</th>\n",
              "      <td>10875</td>\n",
              "      <td>CityofCalgary activated Municipal Emergency yy...</td>\n",
              "      <td>1</td>\n",
              "    </tr>\n",
              "  </tbody>\n",
              "</table>\n",
              "</div>"
            ],
            "text/plain": [
              "         id                                               text  target\n",
              "3258  10861         EARTHQUAKE SAFETY ANGELES SAFETY FASTENERS       0\n",
              "3259  10865  Storm worse hurricane city3others hardest look...       1\n",
              "3260  10868                           Green derailment Chicago       1\n",
              "3261  10874                   issues Hazardous Weather Outlook       1\n",
              "3262  10875  CityofCalgary activated Municipal Emergency yy...       1"
            ]
          },
          "execution_count": 58,
          "metadata": {},
          "output_type": "execute_result"
        }
      ],
      "source": [
        "test_df['target']=predictions\n",
        "test_df.tail()"
      ]
    },
    {
      "cell_type": "code",
      "execution_count": null,
      "metadata": {
        "ExecuteTime": {
          "end_time": "2020-03-10T13:16:49.612020Z",
          "start_time": "2020-03-10T13:16:49.607660Z"
        },
        "id": "g4uMawcwh-I7",
        "outputId": "fd751b57-cb94-4bf0-857b-7b4b5ad7c68e"
      },
      "outputs": [
        {
          "data": {
            "text/plain": [
              "0    2132\n",
              "1    1131\n",
              "Name: target, dtype: int64"
            ]
          },
          "execution_count": 57,
          "metadata": {},
          "output_type": "execute_result"
        }
      ],
      "source": [
        "test_df['target'].value_counts()"
      ]
    },
    {
      "cell_type": "markdown",
      "metadata": {
        "id": "KY9osPrBh-I7"
      },
      "source": [
        "### Perform predictions on random tweets"
      ]
    },
    {
      "cell_type": "markdown",
      "source": [
        "Tweet 1 - test"
      ],
      "metadata": {
        "id": "YVauP_dOj8aQ"
      }
    },
    {
      "cell_type": "code",
      "execution_count": null,
      "metadata": {
        "ExecuteTime": {
          "end_time": "2020-03-10T13:24:54.783468Z",
          "start_time": "2020-03-10T13:24:54.778026Z"
        },
        "id": "2QcPbN7Mh-I7",
        "outputId": "1f623e10-0535-4afb-cfcf-820197e1e514"
      },
      "outputs": [
        {
          "data": {
            "text/plain": [
              "'COVID19 spread across coming weeks focus limiting epidemic preserving'"
            ]
          },
          "execution_count": 67,
          "metadata": {},
          "output_type": "execute_result"
        }
      ],
      "source": [
        "tt1 = \"#COVID19 will spread across U.S. in coming weeks. We’ll get past it, but must focus on limiting the epidemic, and preserving lif\"\n",
        "tt1 = remove_contractions(tt1)\n",
        "tt1 = clean_dataset(tt1)"
      ]
    },
    {
      "cell_type": "code",
      "execution_count": null,
      "metadata": {
        "ExecuteTime": {
          "end_time": "2020-03-10T13:25:41.711325Z",
          "start_time": "2020-03-10T13:25:41.306161Z"
        },
        "colab": {
          "referenced_widgets": [
            "054c4086d79343acab6ac1e9c34d3f2d",
            "c70654d113774f67a670f0d63f4993dc"
          ]
        },
        "id": "1cIAAQGTh-I8",
        "outputId": "e8ed9afc-38a0-4bc8-cdaf-e07a3e7e3ea6"
      },
      "outputs": [
        {
          "name": "stdout",
          "output_type": "stream",
          "text": [
            "Converting to features started. Cache is not used.\n"
          ]
        },
        {
          "data": {
            "application/vnd.jupyter.widget-view+json": {
              "model_id": "054c4086d79343acab6ac1e9c34d3f2d",
              "version_major": 2,
              "version_minor": 0
            },
            "text/plain": [
              "HBox(children=(IntProgress(value=0, max=1), HTML(value='')))"
            ]
          },
          "metadata": {},
          "output_type": "display_data"
        },
        {
          "data": {
            "application/vnd.jupyter.widget-view+json": {
              "model_id": "c70654d113774f67a670f0d63f4993dc",
              "version_major": 2,
              "version_minor": 0
            },
            "text/plain": [
              "HBox(children=(IntProgress(value=0, max=1), HTML(value='')))"
            ]
          },
          "metadata": {},
          "output_type": "display_data"
        },
        {
          "name": "stdout",
          "output_type": "stream",
          "text": [
            "Prediction is:  Real\n"
          ]
        }
      ],
      "source": [
        "predictions, _ = model_Roberta.predict([tt1])\n",
        "response_dict = {0: 'Fake', 1: 'Real'}\n",
        "print(\"Prediction is: \", response_dict[predictions[0]])"
      ]
    },
    {
      "cell_type": "markdown",
      "source": [
        "Tweet 2 - test"
      ],
      "metadata": {
        "id": "DraJqXDGkLmz"
      }
    },
    {
      "cell_type": "code",
      "execution_count": null,
      "metadata": {
        "ExecuteTime": {
          "end_time": "2020-03-10T13:27:28.037706Z",
          "start_time": "2020-03-10T13:27:28.034760Z"
        },
        "id": "uSWkEvSeh-I8",
        "outputId": "921cbf15-3f6f-4f62-c740-df6c06375cb2"
      },
      "outputs": [
        {
          "data": {
            "text/plain": [
              "'BREAKING Confirmed flooding trading floor flooded under water'"
            ]
          },
          "execution_count": 70,
          "metadata": {},
          "output_type": "execute_result"
        }
      ],
      "source": [
        "tt2 = \"BREAKING: Confirmed flooding on NYSE. The trading floor is flooded under more than 3 feet of water.\"\n",
        "tt2 = remove_contractions(tt2)\n",
        "tt2 = clean_dataset(tt2)"
      ]
    },
    {
      "cell_type": "code",
      "execution_count": null,
      "metadata": {
        "ExecuteTime": {
          "end_time": "2020-03-10T13:27:37.505779Z",
          "start_time": "2020-03-10T13:27:37.144575Z"
        },
        "colab": {
          "referenced_widgets": [
            "e973829c1a354a9c9f3a166b03bfc184",
            "a1809d7f8e5f4931bc7f3d0b2b37f6ba"
          ]
        },
        "id": "-7XEuWEEh-I8",
        "outputId": "d7b4efdc-08ec-4498-c142-28b6d2e7ec9c"
      },
      "outputs": [
        {
          "name": "stdout",
          "output_type": "stream",
          "text": [
            "Converting to features started. Cache is not used.\n"
          ]
        },
        {
          "data": {
            "application/vnd.jupyter.widget-view+json": {
              "model_id": "e973829c1a354a9c9f3a166b03bfc184",
              "version_major": 2,
              "version_minor": 0
            },
            "text/plain": [
              "HBox(children=(IntProgress(value=0, max=1), HTML(value='')))"
            ]
          },
          "metadata": {},
          "output_type": "display_data"
        },
        {
          "data": {
            "application/vnd.jupyter.widget-view+json": {
              "model_id": "a1809d7f8e5f4931bc7f3d0b2b37f6ba",
              "version_major": 2,
              "version_minor": 0
            },
            "text/plain": [
              "HBox(children=(IntProgress(value=0, max=1), HTML(value='')))"
            ]
          },
          "metadata": {},
          "output_type": "display_data"
        },
        {
          "name": "stdout",
          "output_type": "stream",
          "text": [
            "Prediction is:  Real\n"
          ]
        }
      ],
      "source": [
        "predictions, _ = model_Roberta.predict([tt2])\n",
        "response_dict = {0: 'Fake', 1: 'Real'}\n",
        "print(\"Prediction is: \", response_dict[predictions[0]])"
      ]
    },
    {
      "cell_type": "markdown",
      "source": [
        "Tweet 3 - test"
      ],
      "metadata": {
        "id": "wznwGYqXkTvh"
      }
    },
    {
      "cell_type": "code",
      "execution_count": null,
      "metadata": {
        "ExecuteTime": {
          "end_time": "2020-03-10T13:30:33.172857Z",
          "start_time": "2020-03-10T13:30:33.169914Z"
        },
        "id": "E2fN_jdLh-I8",
        "outputId": "7f163229-97bc-404f-efc3-cf435dafa6c9"
      },
      "outputs": [
        {
          "data": {
            "text/plain": [
              "'Everything ABLAZE Please'"
            ]
          },
          "execution_count": 80,
          "metadata": {},
          "output_type": "execute_result"
        }
      ],
      "source": [
        "tt3 = \"Everything is ABLAZE. Please run!!\"\n",
        "tt3 = remove_contractions(tt3)\n",
        "tt3 = clean_dataset(tt3)"
      ]
    },
    {
      "cell_type": "code",
      "execution_count": null,
      "metadata": {
        "ExecuteTime": {
          "end_time": "2020-03-10T13:30:36.187689Z",
          "start_time": "2020-03-10T13:30:35.937815Z"
        },
        "colab": {
          "referenced_widgets": [
            "daa4edf2031b4c7b8069c0977759b37e",
            "a4c126e5a13b4c2baf2517d7cdb3763c"
          ]
        },
        "id": "OEXKNXtph-I8",
        "outputId": "08c9d11c-50f7-49a4-a737-a68f47315756"
      },
      "outputs": [
        {
          "name": "stdout",
          "output_type": "stream",
          "text": [
            "Converting to features started. Cache is not used.\n"
          ]
        },
        {
          "data": {
            "application/vnd.jupyter.widget-view+json": {
              "model_id": "daa4edf2031b4c7b8069c0977759b37e",
              "version_major": 2,
              "version_minor": 0
            },
            "text/plain": [
              "HBox(children=(IntProgress(value=0, max=1), HTML(value='')))"
            ]
          },
          "metadata": {},
          "output_type": "display_data"
        },
        {
          "data": {
            "application/vnd.jupyter.widget-view+json": {
              "model_id": "a4c126e5a13b4c2baf2517d7cdb3763c",
              "version_major": 2,
              "version_minor": 0
            },
            "text/plain": [
              "HBox(children=(IntProgress(value=0, max=1), HTML(value='')))"
            ]
          },
          "metadata": {},
          "output_type": "display_data"
        },
        {
          "name": "stdout",
          "output_type": "stream",
          "text": [
            "Prediction is:  Fake\n"
          ]
        }
      ],
      "source": [
        "predictions, _ = model_Roberta.predict([tt3])\n",
        "response_dict = {0: 'Fake', 1: 'Real'}\n",
        "print(\"Prediction is: \", response_dict[predictions[0]])"
      ]
    },
    {
      "cell_type": "code",
      "execution_count": null,
      "metadata": {
        "id": "WLmpALxWh-I8"
      },
      "outputs": [],
      "source": []
    }
  ],
  "metadata": {
    "kernelspec": {
      "display_name": "Python [conda env:tf_torch] *",
      "language": "python",
      "name": "conda-env-tf_torch-py"
    },
    "language_info": {
      "codemirror_mode": {
        "name": "ipython",
        "version": 3
      },
      "file_extension": ".py",
      "mimetype": "text/x-python",
      "name": "python",
      "nbconvert_exporter": "python",
      "pygments_lexer": "ipython3",
      "version": "3.7.3"
    },
    "toc": {
      "base_numbering": 1,
      "nav_menu": {},
      "number_sections": true,
      "sideBar": true,
      "skip_h1_title": false,
      "title_cell": "Table of Contents",
      "title_sidebar": "Contents",
      "toc_cell": false,
      "toc_position": {},
      "toc_section_display": true,
      "toc_window_display": true
    },
    "colab": {
      "provenance": []
    }
  },
  "nbformat": 4,
  "nbformat_minor": 0
}